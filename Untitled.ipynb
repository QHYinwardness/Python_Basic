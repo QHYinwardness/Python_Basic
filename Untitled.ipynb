{
 "cells": [
  {
   "cell_type": "code",
   "execution_count": 1,
   "metadata": {},
   "outputs": [
    {
     "name": "stdout",
     "output_type": "stream",
     "text": [
      "['honda', 'yamada', 'suzuki', 'ducati']\n",
      "['honda', 'honda', 'honda']\n",
      "['first', 'second', 'honda', 'yamada', 'suzuki', 'ducati']\n",
      "['second', 'honda', 'yamada', 'suzuki', 'ducati']\n",
      "['second', 'yamada', 'suzuki', 'ducati']\n",
      "['honda', 'yamaha']\n",
      "['yamaha']\n",
      "['honda', 'suzuki']\n"
     ]
    }
   ],
   "source": [
    "## add elements to list\n",
    "## list.append()\n",
    "motorcycles = [\"honda\", \"yamada\", \"suzuki\"]\n",
    "\n",
    "motorcycles.append(\"ducati\")\n",
    "print(motorcycles)\n",
    "\n",
    "## common scenario\n",
    "\n",
    "motorcycles_list = []\n",
    "motorcycles_list.append(\"honda\")\n",
    "motorcycles_list.append(\"honda\")\n",
    "motorcycles_list.append(\"honda\")\n",
    "\n",
    "print(motorcycles_list)\n",
    "\n",
    "\n",
    "## insert elements\n",
    "# list.insert(position, value)\n",
    "\n",
    "motorcycles.insert(0, \"first\")\n",
    "motorcycles.insert(1, \"second\")\n",
    "print(motorcycles)\n",
    "\n",
    "\n",
    "## delect elements\n",
    "## 1. del\n",
    "## 2. pop() if you want to use the delected value later\n",
    "\n",
    "## delect the first element from the list\n",
    "del motorcycles[0]\n",
    "\n",
    "print(motorcycles)\n",
    "\n",
    "## delect the second element from the list\n",
    "\n",
    "del motorcycles[1]\n",
    "print(motorcycles)\n",
    "\n",
    "## list.pop()  delect the end element\n",
    "my_motorcycles = [\"honda\", \"yamaha\", \"suzuki\"]\n",
    "\n",
    "popped_motorcycles = my_motorcycles.pop()\n",
    "\n",
    "print(my_motorcycles)\n",
    "\n",
    "\n",
    "## list.pop(0)\n",
    "## delect the first element\n",
    "my_motorcycles.pop(0)\n",
    "print(my_motorcycles)\n",
    "\n",
    "## how to choose whether to use del or pop function\n",
    "## if you won't use it anymore, use del; if you want to use the delected element later use pop\n",
    "\n",
    "## remove when you only know the value of the element\n",
    "\n",
    "my_motorcycles_remove = [\"honda\", \"yamaha\", \"suzuki\"]\n",
    "\n",
    "my_motorcycles_remove.remove(\"yamaha\")\n",
    "\n",
    "print(my_motorcycles_remove)\n",
    "\n",
    "\n"
   ]
  },
  {
   "cell_type": "code",
   "execution_count": null,
   "metadata": {},
   "outputs": [],
   "source": []
  }
 ],
 "metadata": {
  "kernelspec": {
   "display_name": "python_test",
   "language": "python",
   "name": "python3"
  },
  "language_info": {
   "codemirror_mode": {
    "name": "ipython",
    "version": 3
   },
   "file_extension": ".py",
   "mimetype": "text/x-python",
   "name": "python",
   "nbconvert_exporter": "python",
   "pygments_lexer": "ipython3",
   "version": "3.11.5"
  }
 },
 "nbformat": 4,
 "nbformat_minor": 5
}
